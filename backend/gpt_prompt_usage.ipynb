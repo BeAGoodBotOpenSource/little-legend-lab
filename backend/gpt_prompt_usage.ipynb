{
 "cells": [
  {
   "cell_type": "code",
   "execution_count": 1,
   "metadata": {},
   "outputs": [],
   "source": [
    "%load_ext autoreload\n",
    "%autoreload 2"
   ]
  },
  {
   "cell_type": "code",
   "execution_count": 18,
   "metadata": {},
   "outputs": [],
   "source": [
    "from gpt_prompt import Story\n",
    "from IPython.display import Markdown, display\n",
    "import logging\n",
    "\n",
    "logging.basicConfig(filename='story.log', encoding='utf-8', level=logging.DEBUG)"
   ]
  },
  {
   "cell_type": "code",
   "execution_count": 63,
   "metadata": {},
   "outputs": [
    {
     "data": {
      "text/plain": [
       "{'title': 'Robo Goes Shopping',\n",
       " 'content': [{'paragraph': 'Once upon a time, there was a mischievous robot named Robo. Robo had lightbulbs for eyes that lit up whenever he got excited. One day, Robo decided to go shopping at the local store.',\n",
       "   'image_caption': 'Robo, a cheerful robot with lightbulbs for eyes, walking towards a colorful store.',\n",
       "   'image_prompt': \"robo, a mischievous robot with lightbulbs for eyes., a cheerful robo, a mischievous robot with lightbulbs for eyes.t with lightbulbs for eyes, walking towards a colorful a colorful store with shelves filled with toys and other items.. children's story book, illustration, studio ghibli, spirited away, howl's moving castle, on a white background\"},\n",
       "  {'paragraph': \"As Robo entered the store, he couldn't help but notice all the shiny toys on the shelves. His lightbulb eyes flickered with excitement. Robo picked up a toy car and started zooming it around the store, making funny noises.\",\n",
       "   'image_caption': 'Robo, with a big smile on his face, playing with a toy car in the store aisle.',\n",
       "   'image_prompt': \"robo, a mischievous robot with lightbulbs for eyes., with a big smile on his face, playing with a a shiny toy car. in the a colorful store with shelves filled with toys and other items. aisle. children's story book, illustration, studio ghibli, spirited away, howl's moving castle, on a white background\"},\n",
       "  {'paragraph': 'But as Robo was playing, he accidentally bumped into a stack of cans, causing them to fall and roll all over the floor. The store manager came running, looking worried. Robo quickly realized his mistake and felt bad.',\n",
       "   'image_caption': 'Robo, looking surprised and apologetic, with cans rolling on the floor and the store manager rushing towards him.',\n",
       "   'image_prompt': \"robo, a mischievous robot with lightbulbs for eyes., looking surprised and apologetic, with cans rolling on the floor. rolling on the floor and the a colorful store with shelves filled with toys and other items. manager rushing towards him. children's story book, illustration, studio ghibli, spirited away, howl's moving castle, on a white background\"},\n",
       "  {'paragraph': 'Robo decided to help clean up the mess he had made. He used his strong robot arms to pick up the cans and put them back on the shelves. The store manager smiled and thanked Robo for his help.',\n",
       "   'image_caption': 'Robo, with a determined expression, picking up cans and neatly placing them back on the shelves.',\n",
       "   'image_prompt': \"robo, a mischievous robot with lightbulbs for eyes., with a determined expression, picking up cans rolling on the floor. and neatly placing them back on the shelves. children's story book, illustration, studio ghibli, spirited away, howl's moving castle, on a white background\"},\n",
       "  {'paragraph': \"After cleaning up, Robo continued his shopping. This time, he was more careful and considerate. He helped an old lady reach a box on a high shelf and even carried a heavy bag for a tired mom. Robo's lightbulb eyes shone brightly with happiness.\",\n",
       "   'image_caption': 'Robo, wearing a helpful expression, assisting an old lady and carrying a heavy bag for a tired mom.',\n",
       "   'image_prompt': \"robo, a mischievous robot with lightbulbs for eyes., wearing a helpful expression, assisting an an old lady trying to reach a a box on a high shelf. on a high shelf. and carrying a heavy bag for a a tired mom carrying a heavy bag.. children's story book, illustration, studio ghibli, spirited away, howl's moving castle, on a white background\"},\n",
       "  {'paragraph': \"As Robo was about to leave the store, the store manager approached him and said, 'Robo, you have shown us all the true meaning of kindness and helpfulness. As a token of our appreciation, here's a special gift for you.' The store manager handed Robo a shiny new toy car.\",\n",
       "   'image_caption': 'Robo, looking surprised and happy, receiving a shiny new toy car from the store manager.',\n",
       "   'image_prompt': \"robo, a mischievous robot with lightbulbs for eyes., looking surprised and happy, receiving a shiny new a shiny toy car. from the a colorful store with shelves filled with toys and other items. manager. children's story book, illustration, studio ghibli, spirited away, howl's moving castle, on a white background\"},\n",
       "  {'paragraph': \"Robo's lightbulb eyes sparkled with joy. He realized that by helping others, he not only made them happy but also received something special in return. From that day on, Robo always looked for ways to help others and make the world a better place.\",\n",
       "   'image_caption': 'Robo, with a big smile on his face, surrounded by happy people and animals, spreading kindness and happiness.',\n",
       "   'image_prompt': \"robo, a mischievous robot with lightbulbs for eyes., with a big smile on his face, surrounded by happy people and animals, spreading kindness and happiness. children's story book, illustration, studio ghibli, spirited away, howl's moving castle, on a white background\"}],\n",
       " 'descriptions': {'Robo': 'Robo, a mischievous robot with lightbulbs for eyes.',\n",
       "  'store': 'A colorful store with shelves filled with toys and other items.',\n",
       "  'toy car': 'A shiny toy car.',\n",
       "  'cans': 'Cans rolling on the floor.',\n",
       "  'store manager': 'The store manager, looking worried and then smiling.',\n",
       "  'old lady': 'An old lady trying to reach a box on a high shelf.',\n",
       "  'box': 'A box on a high shelf.',\n",
       "  'tired mom': 'A tired mom carrying a heavy bag.',\n",
       "  'shiny new toy car': 'A shiny new toy car.'}}"
      ]
     },
     "metadata": {},
     "output_type": "display_data"
    },
    {
     "data": {
      "text/markdown": [
       "# Robo Goes Shopping\n",
       "\n",
       "Once upon a time, there was a mischievous robot named Robo. Robo had lightbulbs for eyes that lit up whenever he got excited. One day, Robo decided to go shopping at the local store.\n",
       "\n",
       "As Robo entered the store, he couldn't help but notice all the shiny toys on the shelves. His lightbulb eyes flickered with excitement. Robo picked up a toy car and started zooming it around the store, making funny noises.\n",
       "\n",
       "But as Robo was playing, he accidentally bumped into a stack of cans, causing them to fall and roll all over the floor. The store manager came running, looking worried. Robo quickly realized his mistake and felt bad.\n",
       "\n",
       "Robo decided to help clean up the mess he had made. He used his strong robot arms to pick up the cans and put them back on the shelves. The store manager smiled and thanked Robo for his help.\n",
       "\n",
       "After cleaning up, Robo continued his shopping. This time, he was more careful and considerate. He helped an old lady reach a box on a high shelf and even carried a heavy bag for a tired mom. Robo's lightbulb eyes shone brightly with happiness.\n",
       "\n",
       "As Robo was about to leave the store, the store manager approached him and said, 'Robo, you have shown us all the true meaning of kindness and helpfulness. As a token of our appreciation, here's a special gift for you.' The store manager handed Robo a shiny new toy car.\n",
       "\n",
       "Robo's lightbulb eyes sparkled with joy. He realized that by helping others, he not only made them happy but also received something special in return. From that day on, Robo always looked for ways to help others and make the world a better place.\n",
       "\n"
      ],
      "text/plain": [
       "<IPython.core.display.Markdown object>"
      ]
     },
     "metadata": {},
     "output_type": "display_data"
    }
   ],
   "source": [
    "c = Story(\n",
    "    child_age=5,\n",
    "    hero_description=\"A mischievous Robot with lightbulbs for eyes\",\n",
    "    story_topic=\"learning to help others\",\n",
    "    image_composition = \"children's story book, illustration, studio ghibli, spirited away, howl's moving castle, on a white background\",\n",
    ")\n",
    "story_1 = c.add_story_prompt(\"Robo goes shopping\")\n",
    "\n",
    "display(story_1)\n",
    "display(Markdown(c.json_to_markdown(story_1)))"
   ]
  },
  {
   "cell_type": "code",
   "execution_count": 64,
   "metadata": {},
   "outputs": [
    {
     "data": {
      "text/plain": [
       "{'title': \"Wisebot's Surprise\",\n",
       " 'content': [{'paragraph': 'After Robo learned the importance of helping others, he continued his adventures in the town. One sunny day, as Robo was walking through the park, he stumbled upon a shiny, golden robot named Wisebot.',\n",
       "   'image_caption': 'Robo, with a surprised expression, discovering Wisebot, a golden robot, in the park.',\n",
       "   'image_prompt': \"robo, a mischievous robot with lightbulbs for eyes., with a surprised expression, discovering wisebot, a shiny, golden robot with a wise and gentle voice., a golden robo, a mischievous robot with lightbulbs for eyes.t, in the a sunny park with trees and flowers.. children's story book, illustration, studio ghibli, spirited away, howl's moving castle, on a white background\"},\n",
       "  {'paragraph': \"Wisebot had a wise and gentle voice that made everyone feel calm and happy. Robo was curious and asked, 'Where did you come from, Wisebot?'\",\n",
       "   'image_caption': 'Robo, looking up at Wisebot with a curious expression.',\n",
       "   'image_prompt': \"robo, a mischievous robot with lightbulbs for eyes., looking up at wisebot, a shiny, golden robot with a wise and gentle voice. with a curious expression. children's story book, illustration, studio ghibli, spirited away, howl's moving castle, on a white background\"},\n",
       "  {'paragraph': \"Wisebot smiled and said, 'I was created by the magic of kindness and the power of learning. Just like you, Robo, I came to this town to spread wisdom and help others.'\",\n",
       "   'image_caption': 'Wisebot, with a wise smile, explaining his origins to Robo.',\n",
       "   'image_prompt': \"wisebot, a shiny, golden robot with a wise and gentle voice., with a wise smile, explaining his origins to robo, a mischievous robot with lightbulbs for eyes.. children's story book, illustration, studio ghibli, spirited away, howl's moving castle, on a white background\"},\n",
       "  {'paragraph': \"Robo's lightbulb eyes lit up with excitement. He realized that Wisebot was just like him, but with a special gift of wisdom. Together, they decided to join forces and make the town an even better place.\",\n",
       "   'image_caption': 'Robo and Wisebot, standing side by side with determined expressions, ready to make a difference in the town.',\n",
       "   'image_prompt': \"robo, a mischievous robot with lightbulbs for eyes. and wisebot, a shiny, golden robot with a wise and gentle voice., standing side by side with determined expressions, ready to make a difference in the town. children's story book, illustration, studio ghibli, spirited away, howl's moving castle, on a white background\"},\n",
       "  {'paragraph': \"With Robo's mischievous nature and Wisebot's wisdom, they went on adventures, helping people, and teaching valuable lessons. The townspeople loved their dynamic duo, and the town became a happier and more caring place.\",\n",
       "   'image_caption': 'Robo and Wisebot, surrounded by happy townspeople, spreading kindness and joy.',\n",
       "   'image_prompt': \"robo, a mischievous robot with lightbulbs for eyes. and wisebot, a shiny, golden robot with a wise and gentle voice., surrounded by happy happy townspeople, smiling and interacting with robo and wisebot., spreading kindness and joy. children's story book, illustration, studio ghibli, spirited away, howl's moving castle, on a white background\"},\n",
       "  {'paragraph': 'And so, Robo and Wisebot continued their adventures, making new friends, and sharing their unique gifts with everyone they met. They knew that together, they could make a big difference and inspire others to be kind and helpful too.',\n",
       "   'image_caption': 'Robo and Wisebot, walking hand in hand, ready to make the world a better place.',\n",
       "   'image_prompt': \"robo, a mischievous robot with lightbulbs for eyes. and wisebot, a shiny, golden robot with a wise and gentle voice., walking hand in hand, ready to make the world a better place. children's story book, illustration, studio ghibli, spirited away, howl's moving castle, on a white background\"}],\n",
       " 'descriptions': {'Robo': 'Robo, a mischievous robot with lightbulbs for eyes.',\n",
       "  'Wisebot': 'Wisebot, a shiny, golden robot with a wise and gentle voice.',\n",
       "  'park': 'A sunny park with trees and flowers.',\n",
       "  'townspeople': 'Happy townspeople, smiling and interacting with Robo and Wisebot.',\n",
       "  'dynamic duo': 'Robo and Wisebot, standing together with determined expressions.',\n",
       "  'adventures': 'Robo and Wisebot going on exciting and helpful adventures.',\n",
       "  'new friends': 'Various friendly characters that Robo and Wisebot meet along their journey.'}}"
      ]
     },
     "metadata": {},
     "output_type": "display_data"
    },
    {
     "data": {
      "text/markdown": [
       "# Wisebot's Surprise\n",
       "\n",
       "After Robo learned the importance of helping others, he continued his adventures in the town. One sunny day, as Robo was walking through the park, he stumbled upon a shiny, golden robot named Wisebot.\n",
       "\n",
       "Wisebot had a wise and gentle voice that made everyone feel calm and happy. Robo was curious and asked, 'Where did you come from, Wisebot?'\n",
       "\n",
       "Wisebot smiled and said, 'I was created by the magic of kindness and the power of learning. Just like you, Robo, I came to this town to spread wisdom and help others.'\n",
       "\n",
       "Robo's lightbulb eyes lit up with excitement. He realized that Wisebot was just like him, but with a special gift of wisdom. Together, they decided to join forces and make the town an even better place.\n",
       "\n",
       "With Robo's mischievous nature and Wisebot's wisdom, they went on adventures, helping people, and teaching valuable lessons. The townspeople loved their dynamic duo, and the town became a happier and more caring place.\n",
       "\n",
       "And so, Robo and Wisebot continued their adventures, making new friends, and sharing their unique gifts with everyone they met. They knew that together, they could make a big difference and inspire others to be kind and helpful too.\n",
       "\n"
      ],
      "text/plain": [
       "<IPython.core.display.Markdown object>"
      ]
     },
     "metadata": {},
     "output_type": "display_data"
    }
   ],
   "source": [
    "story_2 = c.add_to_story(\"Where did Wisebot come from?\")\n",
    "\n",
    "display(story_2)\n",
    "display(Markdown(c.json_to_markdown(story_2)))"
   ]
  },
  {
   "cell_type": "code",
   "execution_count": null,
   "metadata": {},
   "outputs": [],
   "source": []
  }
 ],
 "metadata": {
  "kernelspec": {
   "display_name": "chatgpt-notebook-T5p_OY_6-py3.10",
   "language": "python",
   "name": "python3"
  },
  "language_info": {
   "codemirror_mode": {
    "name": "ipython",
    "version": 3
   },
   "file_extension": ".py",
   "mimetype": "text/x-python",
   "name": "python",
   "nbconvert_exporter": "python",
   "pygments_lexer": "ipython3",
   "version": "3.10.12"
  },
  "orig_nbformat": 4
 },
 "nbformat": 4,
 "nbformat_minor": 2
}
